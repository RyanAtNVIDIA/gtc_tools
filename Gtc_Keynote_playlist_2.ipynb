{
 "cells": [
  {
   "cell_type": "markdown",
   "id": "d981733f-5ca8-4d50-b3c5-27568794e1a5",
   "metadata": {},
   "source": [
    "# GTC Keynote Playlist Generator"
   ]
  },
  {
   "cell_type": "markdown",
   "id": "b73dd537-42c3-49f6-85c5-ff0f81a762f6",
   "metadata": {},
   "source": [
    "## Import libraries"
   ]
  },
  {
   "cell_type": "code",
   "execution_count": 37,
   "id": "2c2300c2-080b-4acf-82f5-05ebd195dcae",
   "metadata": {},
   "outputs": [],
   "source": [
    "from sentence_transformers import SentenceTransformer, util\n",
    "import gtc_spring23 as gtc\n",
    "import pandas as pd\n",
    "import smart_search\n",
    "\n",
    "import ipywidgets as widgets"
   ]
  },
  {
   "cell_type": "markdown",
   "id": "513ffb87-c346-4f2f-9cbe-b1ce5fd915fa",
   "metadata": {},
   "source": [
    "## Notebook variables and Inputs"
   ]
  },
  {
   "cell_type": "code",
   "execution_count": 43,
   "id": "60d7f96b-c426-41b4-95e5-14cbd1413eee",
   "metadata": {},
   "outputs": [],
   "source": [
    "#model_name = 'msmarco-distilbert-base-v4'\n",
    "#model_name = 'msmarco-MiniLM-L12-cos-v5'\n",
    "#model_name = smart_search.sentence_models[2]\n",
    "#query_string = 'USPS'\n",
    "playlist_count = 5"
   ]
  },
  {
   "cell_type": "code",
   "execution_count": 68,
   "id": "4f2b271c-b407-4c0d-aeb9-7b4ea2f70218",
   "metadata": {},
   "outputs": [
    {
     "data": {
      "application/vnd.jupyter.widget-view+json": {
       "model_id": "2bbde8349d174829a67da28f654baeb1",
       "version_major": 2,
       "version_minor": 0
      },
      "text/plain": [
       "Text(value='', description='Query String:', placeholder='Enter Query String')"
      ]
     },
     "execution_count": 68,
     "metadata": {},
     "output_type": "execute_result"
    }
   ],
   "source": [
    "query_string = widgets.Text(\n",
    "    placeholder='Enter Query String',\n",
    "    description='Query String:',\n",
    "    disabled=False   \n",
    ")\n",
    "query_string"
   ]
  },
  {
   "cell_type": "code",
   "execution_count": 54,
   "id": "4863348b-08f7-4500-88a6-e2f9d70f037e",
   "metadata": {},
   "outputs": [
    {
     "data": {
      "application/vnd.jupyter.widget-view+json": {
       "model_id": "45d63bdc90bd4c45aec05afcc150b2d5",
       "version_major": 2,
       "version_minor": 0
      },
      "text/plain": [
       "Dropdown(description='Model:', options=('all-distilroberta-v1', 'allenai-specter', 'all-mpnet-base-v1', 'all-m…"
      ]
     },
     "execution_count": 54,
     "metadata": {},
     "output_type": "execute_result"
    }
   ],
   "source": [
    "model_name = widgets.Dropdown(\n",
    "    options=smart_search.sentence_models,\n",
    "    description='Model:',\n",
    "    disabled=False,\n",
    ")\n",
    "\n",
    "model_name"
   ]
  },
  {
   "cell_type": "markdown",
   "id": "e4573d76-a615-4b6a-8d95-7122f6e305e8",
   "metadata": {},
   "source": [
    "## Embed keynote sections, query term, and perform semantic search"
   ]
  },
  {
   "cell_type": "code",
   "execution_count": 69,
   "id": "43cefcaa-e92a-4ec5-b07f-44465fa87553",
   "metadata": {},
   "outputs": [
    {
     "name": "stdout",
     "output_type": "stream",
     "text": [
      "Loading model: 'stsb-mpnet-base-v2'\n",
      "Embedding GTC Sections.\n"
     ]
    },
    {
     "data": {
      "application/vnd.jupyter.widget-view+json": {
       "model_id": "4db8e6dfa5404f57ba508976531bcf21",
       "version_major": 2,
       "version_minor": 0
      },
      "text/plain": [
       "Batches:   0%|          | 0/2 [00:00<?, ?it/s]"
      ]
     },
     "metadata": {},
     "output_type": "display_data"
    },
    {
     "name": "stdout",
     "output_type": "stream",
     "text": [
      "Embedding query.\n",
      "CPU times: user 2.14 s, sys: 89.9 ms, total: 2.23 s\n",
      "Wall time: 667 ms\n"
     ]
    }
   ],
   "source": [
    "%%time\n",
    "\n",
    "print(\"Loading model: '{}'\".format(model_name.value))\n",
    "model = SentenceTransformer(model_name.value,cache_folder='../models/')\n",
    "\n",
    "print(\"Embedding GTC Sections.\")\n",
    "source_embeddings = model.encode(gtc.section_text,convert_to_tensor=True,show_progress_bar=True)\n",
    "\n",
    "print(\"Embedding query.\")\n",
    "query_embedding = model.encode(query_string.value,convert_to_tensor=True)\n",
    "\n",
    "# Using the util function to run semantic search, default to cosine\n",
    "topk_results = pd.DataFrame(util.semantic_search(query_embedding, source_embeddings, top_k=playlist_count)[0])"
   ]
  },
  {
   "cell_type": "markdown",
   "id": "8e6681e1-40b4-4a3d-a3fa-b5fb7ac78d21",
   "metadata": {},
   "source": [
    "## Display the results"
   ]
  },
  {
   "cell_type": "code",
   "execution_count": 70,
   "id": "65384d7c-70bc-4fd7-b26a-34c9ed6f6e2b",
   "metadata": {},
   "outputs": [
    {
     "name": "stdout",
     "output_type": "stream",
     "text": [
      "The following top 5 sections are ranked in order of relevance to the query term: 'USPS' using stsb-mpnet-base-v2 as an embedding model\n",
      "\n",
      "Section: Route Optimization\n",
      "Chapter: 2) Acceleration Libraries\n",
      "Section URL: https://youtu.be/DiGB5uAYKAg?t=938\n",
      "Section Summary (bart-large-cnn): AT&T is tapping into NVIDIA accelerated computing and AI for sustainability, cost savings, and new services. cuOpt can also optimize logistic services. 400 billion parcels are delivered to 377 billion stops each year. Deloitte, Capgemini, Softserve, Accenture, and Quantiphi are using NVIDIA cuOpt to help customers optimize operations.\n",
      "Score: 0.17746584117412567\n",
      "\n",
      "Section: Amazon Robotics\n",
      "Chapter: 7) Omniverse\n",
      "Section URL: https://youtu.be/DiGB5uAYKAg?t=3526\n",
      "Section Summary (bart-large-cnn): Amazon Robotics has manufactured and deployed the largest fleet of mobile industrial robots in the world. The newest member of this robotic fleet is Proteus, Amazon's first fully autonomous warehouse robot. Let's see how NVIDIA Isaac Sim, built on Omniverse is creating physically accurate, photoreal simulations.\n",
      "Score: 0.1728030890226364\n",
      "\n",
      "Section: NVIDIA Inference Platform\n",
      "Chapter: 2) Acceleration Libraries\n",
      "Section URL: https://youtu.be/DiGB5uAYKAg?t=1073\n",
      "Section Summary (bart-large-cnn): Microsoft Office and Teams, Amazon, American Express, and the U.S. Postal Service are among the 40,000 customers using TensorRT and Triton. 50-80% of cloud video pipelines are processed on CPUs consuming power and cost and adding latency. We are releasing some great new features – model analyzer support for model ensembles and multiple concurrent model serving.\n",
      "Score: 0.16162586212158203\n",
      "\n",
      "Section: DGX H100\n",
      "Chapter: 4) DGX AI Supercomputer\n",
      "Section URL: https://youtu.be/DiGB5uAYKAg?t=1924\n",
      "Section Summary (bart-large-cnn): NVIDIA DGX H100 is the blueprint for customers building AI infrastructure worldwide. 400 Gbps ultra-low latency NVIDIA Quantum InfiniBand with in-network processing connects hundreds and thousands of DGX nodes into an AI supercomputer. H100 has a Transformer Engine designed to process models like the amazing ChatGPT.\n",
      "Score: 0.15390823781490326\n",
      "\n",
      "Section: Omniverse Cloud Demo\n",
      "Chapter: 7) Omniverse\n",
      "Section URL: https://youtu.be/DiGB5uAYKAg?t=4065\n",
      "Section Summary (bart-large-cnn): Omniverse is developing custom applications to connect our existing tools, know-how and teams all in a unified view. Omniverse is cloud-native and cloud-agnostic enabling teams to collaborate across our virtual factories from everywhere. To celebrate the launch of our virtual plant, I’d like to invite you to open the first digital factory with me.\n",
      "Score: 0.1518874615430832\n",
      "\n"
     ]
    }
   ],
   "source": [
    "print(f\"The following top {playlist_count} sections are ranked in order of relevance to the query term: '{query_string.value}' using {model_name.value} as an embedding model\\n\")\n",
    "\n",
    "for i in range(playlist_count):\n",
    "    idx = topk_results['corpus_id'][i]\n",
    "    print(f\"Section: {gtc.section_name[idx]}\")\n",
    "    print(f\"Chapter: {gtc.chapter_name[idx]}\")\n",
    "    print(f\"Section URL: {gtc.section_url[idx]}\")\n",
    "    print(f\"Section Summary (bart-large-cnn): {gtc.section_summary[idx]}\")\n",
    "    print(f\"Score: {topk_results.score[i]}\\n\")"
   ]
  }
 ],
 "metadata": {
  "kernelspec": {
   "display_name": "Python 3 (ipykernel)",
   "language": "python",
   "name": "python3"
  },
  "language_info": {
   "codemirror_mode": {
    "name": "ipython",
    "version": 3
   },
   "file_extension": ".py",
   "mimetype": "text/x-python",
   "name": "python",
   "nbconvert_exporter": "python",
   "pygments_lexer": "ipython3",
   "version": "3.9.13"
  }
 },
 "nbformat": 4,
 "nbformat_minor": 5
}
