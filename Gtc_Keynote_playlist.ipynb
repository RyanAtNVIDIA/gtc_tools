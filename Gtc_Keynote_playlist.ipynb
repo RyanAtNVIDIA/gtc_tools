{
 "cells": [
  {
   "cell_type": "markdown",
   "id": "d981733f-5ca8-4d50-b3c5-27568794e1a5",
   "metadata": {},
   "source": [
    "# GTC Keynote Playlist Generator"
   ]
  },
  {
   "cell_type": "markdown",
   "id": "b73dd537-42c3-49f6-85c5-ff0f81a762f6",
   "metadata": {},
   "source": [
    "## Import libraries"
   ]
  },
  {
   "cell_type": "code",
   "execution_count": 2,
   "id": "2c2300c2-080b-4acf-82f5-05ebd195dcae",
   "metadata": {},
   "outputs": [
    {
     "ename": "ModuleNotFoundError",
     "evalue": "No module named 'gtc_spring23'",
     "output_type": "error",
     "traceback": [
      "\u001b[0;31m---------------------------------------------------------------------------\u001b[0m",
      "\u001b[0;31mModuleNotFoundError\u001b[0m                       Traceback (most recent call last)",
      "\u001b[0;32m/tmp/ipykernel_1593/1880452039.py\u001b[0m in \u001b[0;36m<module>\u001b[0;34m\u001b[0m\n\u001b[1;32m      1\u001b[0m \u001b[0;32mfrom\u001b[0m \u001b[0msentence_transformers\u001b[0m \u001b[0;32mimport\u001b[0m \u001b[0mSentenceTransformer\u001b[0m\u001b[0;34m,\u001b[0m \u001b[0mutil\u001b[0m\u001b[0;34m\u001b[0m\u001b[0;34m\u001b[0m\u001b[0m\n\u001b[0;32m----> 2\u001b[0;31m \u001b[0;32mimport\u001b[0m \u001b[0mgtc_spring23\u001b[0m \u001b[0;32mas\u001b[0m \u001b[0mgtc\u001b[0m\u001b[0;34m\u001b[0m\u001b[0;34m\u001b[0m\u001b[0m\n\u001b[0m\u001b[1;32m      3\u001b[0m \u001b[0;32mimport\u001b[0m \u001b[0mpandas\u001b[0m \u001b[0;32mas\u001b[0m \u001b[0mpd\u001b[0m\u001b[0;34m\u001b[0m\u001b[0;34m\u001b[0m\u001b[0m\n",
      "\u001b[0;31mModuleNotFoundError\u001b[0m: No module named 'gtc_spring23'"
     ]
    }
   ],
   "source": [
    "from sentence_transformers import SentenceTransformer, util\n",
    "import gtc_spring23 as gtc\n",
    "import pandas as pd"
   ]
  },
  {
   "cell_type": "markdown",
   "id": "513ffb87-c346-4f2f-9cbe-b1ce5fd915fa",
   "metadata": {},
   "source": [
    "## Notebook variables and Inputs"
   ]
  },
  {
   "cell_type": "code",
   "execution_count": null,
   "id": "60d7f96b-c426-41b4-95e5-14cbd1413eee",
   "metadata": {},
   "outputs": [],
   "source": [
    "model_name = 'msmarco-distilbert-base-v4'\n",
    "query_string = 'USPS'\n",
    "playlist_count = 5"
   ]
  },
  {
   "cell_type": "markdown",
   "id": "e4573d76-a615-4b6a-8d95-7122f6e305e8",
   "metadata": {},
   "source": [
    "## Embed keynote sections, query term, and perform semantic search"
   ]
  },
  {
   "cell_type": "code",
   "execution_count": null,
   "id": "43cefcaa-e92a-4ec5-b07f-44465fa87553",
   "metadata": {},
   "outputs": [],
   "source": [
    "%%time\n",
    "\n",
    "print(\"Loading model: '{}'\".format(model_name))\n",
    "model = SentenceTransformer(model_name,cache_folder='./models/')\n",
    "\n",
    "print(\"Embedding GTC Sections.\")\n",
    "source_embeddings = model.encode(gtc.section_text,convert_to_tensor=True,show_progress_bar=True)\n",
    "\n",
    "print(\"Embedding query.\")\n",
    "query_embedding = model.encode(query_string,convert_to_tensor=True)\n",
    "\n",
    "# Using the util function to run semantic search, default to cosine\n",
    "topk_results = pd.DataFrame(util.semantic_search(query_embedding, source_embeddings, top_k=playlist_count)[0])"
   ]
  },
  {
   "cell_type": "markdown",
   "id": "8e6681e1-40b4-4a3d-a3fa-b5fb7ac78d21",
   "metadata": {},
   "source": [
    "## Display the results"
   ]
  },
  {
   "cell_type": "code",
   "execution_count": null,
   "id": "65384d7c-70bc-4fd7-b26a-34c9ed6f6e2b",
   "metadata": {},
   "outputs": [],
   "source": [
    "print(f\"The following top {playlist_count} sections are ranked in order of relevance to the query term: '{query_string}' using {model_name} as an embedding model\\n\")\n",
    "\n",
    "for i in range(playlist_count):\n",
    "    #idx = topk_results_ids[i]\n",
    "    idx = topk_results['corpus_id'][i]\n",
    "    print(f\"Section: {gtc.section_name[idx]}\")\n",
    "    print(f\"Chapter: {gtc.chapter_name[idx]}\")\n",
    "    print(f\"Section URL: {gtc.section_url[idx]}\")\n",
    "    print(f\"Section Summary (bart-large-cnn): {gtc.section_summary[idx]}\")\n",
    "    print(f\"Score: {topk_results.score[i]}\\n\")"
   ]
  },
  {
   "cell_type": "code",
   "execution_count": null,
   "id": "8fa2b45c-378c-470b-a1a8-57968fcecfbc",
   "metadata": {},
   "outputs": [],
   "source": []
  }
 ],
 "metadata": {
  "kernelspec": {
   "display_name": "Python 3 (ipykernel)",
   "language": "python",
   "name": "python3"
  },
  "language_info": {
   "codemirror_mode": {
    "name": "ipython",
    "version": 3
   },
   "file_extension": ".py",
   "mimetype": "text/x-python",
   "name": "python",
   "nbconvert_exporter": "python",
   "pygments_lexer": "ipython3",
   "version": "3.9.13"
  }
 },
 "nbformat": 4,
 "nbformat_minor": 5
}
